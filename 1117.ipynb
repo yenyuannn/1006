{
  "nbformat": 4,
  "nbformat_minor": 0,
  "metadata": {
    "colab": {
      "provenance": []
    },
    "kernelspec": {
      "name": "python3",
      "display_name": "Python 3"
    },
    "language_info": {
      "name": "python"
    }
  },
  "cells": [
    {
      "cell_type": "code",
      "execution_count": 2,
      "metadata": {
        "colab": {
          "base_uri": "https://localhost:8080/",
          "height": 442
        },
        "id": "LBDO0xU3MXpy",
        "outputId": "4604e806-8614-422b-fb4a-98c8d40f6b0e"
      },
      "outputs": [
        {
          "output_type": "error",
          "ename": "InvalidSchema",
          "evalue": "ignored",
          "traceback": [
            "\u001b[0;31m---------------------------------------------------------------------------\u001b[0m",
            "\u001b[0;31mInvalidSchema\u001b[0m                             Traceback (most recent call last)",
            "\u001b[0;32m<ipython-input-2-bcd517ee7884>\u001b[0m in \u001b[0;36m<cell line: 25>\u001b[0;34m()\u001b[0m\n\u001b[1;32m     23\u001b[0m \u001b[0;31m# 加載圖片\u001b[0m\u001b[0;34m\u001b[0m\u001b[0;34m\u001b[0m\u001b[0m\n\u001b[1;32m     24\u001b[0m \u001b[0mimg_url\u001b[0m \u001b[0;34m=\u001b[0m \u001b[0;34m'data:image/jpeg;base64,/9j/4AAQSkZJRgABAQAAAQABAAD/2wCEAAoHCBYWFRgWFhYZGBgaHBgcGhocGBgYGBoaGhwaHBgYGhocIS4lHB4rHxgYJjgmKy8xNTU1GiQ7QDs0Py40NTEBDAwMEA8QHxISHzQrJCs0NDQ0NDQ0NDQ0NDQ0NDQ0NDQ0NDQ0NDQ0NDQ0NDQ0NDQ0NDQ0NDQ0NDQ0NDQ0NDQ0NP/AABEIAOEA4QMBIgACEQEDEQH/xAAcAAACAgMBAQAAAAAAAAAAAAAEBQIDAAEGBwj/xABAEAABAwMCAwYDBgMGBgMAAAABAAIRAwQhEjEFQVEGImFxgZETMrEUUqHB0fAjQpIVYnKC4fEHFjOywtJDU6L/xAAaAQADAQEBAQAAAAAAAAAAAAABAgMABAUG/8QAKhEAAgICAgICAQMEAwAAAAAAAAECEQMhEjEEQRNRYSIycQWRofAUM0L/2gAMAwEAAhEDEQA/AEtKzxKnbUgHgeKOtHgt2VgtAcr5iWV7TOlQ1aGbaIDcdEue/KIZWIwVp7AchcyVdjvfQVQttTUpuKJY4wnNq4tEJdxGpLpXX4/kKOqFktAFSqeaoLJW7o4S+3uy0wV2fJyjcUJdEK9qWmd1FpKcPqNc1Lm25c/S3MkR5n/VLjyOS2gSXsjTZKPo2gOV0dh2FeQ1z6oZI7zA0lzTyHQ/hCZjsYGuOmudGIDmSR1lwdn2XQ8OR7RlJeziH0nNPVQcu8/5SJIiswjn3HA+m6Auexdd06X0zG3ecNR8i3CR4st7Rm0I+G8XfS2yOid/824+Uz6LluI8OrUCRUY5sGJg6Sd8OiHeiXF5WqUdGUh5xHijqpk7IRj0Ex6vYVzyhJseMg6m6UQ1iFolEfESrD9jciq5aEvc9E3NWUGclUiuPYktk3HCHyiW0pUjRhPySA4gmshEUbggqLmIZyylyM1Q8p3ivF2FzoqEK+k84QnFVYYyH32pbSyfFYoDl9vb6cCYTBr9IE7Ku3dnKlevAauOTcpUzRugWpWJJU6NyRgqNiWkmclZc1mh3inpXxoyWrDm3GEPcU9Q2W7cyjGkDCWMK2jdiJzeRQV5w/mN08vqYnC02nqbsrRyuDtE69HIh72nSu47DcOc0fHe3LiG0ZHzO5vE8h18fBb4Z2fY7+NVALGnDf8A7HTEH+7PvEdV01CqXV9OP4dMu8PiPA046BuP8q9bD+pKTVf72BRfYbc8SYwinrZrPIvbqPiGzJCvp3BPLl/suOs+xv8AGdVfV+I8u1l+hjTqPPUBqAAwACBHJdrRptgNDgY8Rn2XWr7szSWjT64G+IW7a4D9j6c0u4yypoIYQHcidtsLieHv4hbVQ57aldkn4ml7CBJJ1U2EAtIxzM52wlcnYVBUd9fvYRorNDmOwQeROAR4rzjtXwA2z5bLqT/keR...\n\u001b[0;32m---> 25\u001b[0;31m \u001b[0mimg\u001b[0m \u001b[0;34m=\u001b[0m \u001b[0mload_image\u001b[0m\u001b[0;34m(\u001b[0m\u001b[0mimg_url\u001b[0m\u001b[0;34m)\u001b[0m\u001b[0;34m\u001b[0m\u001b[0;34m\u001b[0m\u001b[0m\n\u001b[0m\u001b[1;32m     26\u001b[0m \u001b[0;34m\u001b[0m\u001b[0m\n\u001b[1;32m     27\u001b[0m \u001b[0;31m# 準備繪圖\u001b[0m\u001b[0;34m\u001b[0m\u001b[0;34m\u001b[0m\u001b[0m\n",
            "\u001b[0;32m<ipython-input-2-bcd517ee7884>\u001b[0m in \u001b[0;36mload_image\u001b[0;34m(url)\u001b[0m\n\u001b[1;32m      8\u001b[0m \u001b[0;31m# 函數從網址加載圖片\u001b[0m\u001b[0;34m\u001b[0m\u001b[0;34m\u001b[0m\u001b[0m\n\u001b[1;32m      9\u001b[0m \u001b[0;32mdef\u001b[0m \u001b[0mload_image\u001b[0m\u001b[0;34m(\u001b[0m\u001b[0murl\u001b[0m\u001b[0;34m)\u001b[0m\u001b[0;34m:\u001b[0m\u001b[0;34m\u001b[0m\u001b[0;34m\u001b[0m\u001b[0m\n\u001b[0;32m---> 10\u001b[0;31m     \u001b[0mresponse\u001b[0m \u001b[0;34m=\u001b[0m \u001b[0mrequests\u001b[0m\u001b[0;34m.\u001b[0m\u001b[0mget\u001b[0m\u001b[0;34m(\u001b[0m\u001b[0murl\u001b[0m\u001b[0;34m)\u001b[0m\u001b[0;34m\u001b[0m\u001b[0;34m\u001b[0m\u001b[0m\n\u001b[0m\u001b[1;32m     11\u001b[0m     \u001b[0;32mreturn\u001b[0m \u001b[0mImage\u001b[0m\u001b[0;34m.\u001b[0m\u001b[0mopen\u001b[0m\u001b[0;34m(\u001b[0m\u001b[0mBytesIO\u001b[0m\u001b[0;34m(\u001b[0m\u001b[0mresponse\u001b[0m\u001b[0;34m.\u001b[0m\u001b[0mcontent\u001b[0m\u001b[0;34m)\u001b[0m\u001b[0;34m)\u001b[0m\u001b[0;34m\u001b[0m\u001b[0;34m\u001b[0m\u001b[0m\n\u001b[1;32m     12\u001b[0m \u001b[0;34m\u001b[0m\u001b[0m\n",
            "\u001b[0;32m/usr/local/lib/python3.10/dist-packages/requests/api.py\u001b[0m in \u001b[0;36mget\u001b[0;34m(url, params, **kwargs)\u001b[0m\n\u001b[1;32m     71\u001b[0m     \"\"\"\n\u001b[1;32m     72\u001b[0m \u001b[0;34m\u001b[0m\u001b[0m\n\u001b[0;32m---> 73\u001b[0;31m     \u001b[0;32mreturn\u001b[0m \u001b[0mrequest\u001b[0m\u001b[0;34m(\u001b[0m\u001b[0;34m\"get\"\u001b[0m\u001b[0;34m,\u001b[0m \u001b[0murl\u001b[0m\u001b[0;34m,\u001b[0m \u001b[0mparams\u001b[0m\u001b[0;34m=\u001b[0m\u001b[0mparams\u001b[0m\u001b[0;34m,\u001b[0m \u001b[0;34m**\u001b[0m\u001b[0mkwargs\u001b[0m\u001b[0;34m)\u001b[0m\u001b[0;34m\u001b[0m\u001b[0;34m\u001b[0m\u001b[0m\n\u001b[0m\u001b[1;32m     74\u001b[0m \u001b[0;34m\u001b[0m\u001b[0m\n\u001b[1;32m     75\u001b[0m \u001b[0;34m\u001b[0m\u001b[0m\n",
            "\u001b[0;32m/usr/local/lib/python3.10/dist-packages/requests/api.py\u001b[0m in \u001b[0;36mrequest\u001b[0;34m(method, url, **kwargs)\u001b[0m\n\u001b[1;32m     57\u001b[0m     \u001b[0;31m# cases, and look like a memory leak in others.\u001b[0m\u001b[0;34m\u001b[0m\u001b[0;34m\u001b[0m\u001b[0m\n\u001b[1;32m     58\u001b[0m     \u001b[0;32mwith\u001b[0m \u001b[0msessions\u001b[0m\u001b[0;34m.\u001b[0m\u001b[0mSession\u001b[0m\u001b[0;34m(\u001b[0m\u001b[0;34m)\u001b[0m \u001b[0;32mas\u001b[0m \u001b[0msession\u001b[0m\u001b[0;34m:\u001b[0m\u001b[0;34m\u001b[0m\u001b[0;34m\u001b[0m\u001b[0m\n\u001b[0;32m---> 59\u001b[0;31m         \u001b[0;32mreturn\u001b[0m \u001b[0msession\u001b[0m\u001b[0;34m.\u001b[0m\u001b[0mrequest\u001b[0m\u001b[0;34m(\u001b[0m\u001b[0mmethod\u001b[0m\u001b[0;34m=\u001b[0m\u001b[0mmethod\u001b[0m\u001b[0;34m,\u001b[0m \u001b[0murl\u001b[0m\u001b[0;34m=\u001b[0m\u001b[0murl\u001b[0m\u001b[0;34m,\u001b[0m \u001b[0;34m**\u001b[0m\u001b[0mkwargs\u001b[0m\u001b[0;34m)\u001b[0m\u001b[0;34m\u001b[0m\u001b[0;34m\u001b[0m\u001b[0m\n\u001b[0m\u001b[1;32m     60\u001b[0m \u001b[0;34m\u001b[0m\u001b[0m\n\u001b[1;32m     61\u001b[0m \u001b[0;34m\u001b[0m\u001b[0m\n",
            "\u001b[0;32m/usr/local/lib/python3.10/dist-packages/requests/sessions.py\u001b[0m in \u001b[0;36mrequest\u001b[0;34m(self, method, url, params, data, headers, cookies, files, auth, timeout, allow_redirects, proxies, hooks, stream, verify, cert, json)\u001b[0m\n\u001b[1;32m    587\u001b[0m         }\n\u001b[1;32m    588\u001b[0m         \u001b[0msend_kwargs\u001b[0m\u001b[0;34m.\u001b[0m\u001b[0mupdate\u001b[0m\u001b[0;34m(\u001b[0m\u001b[0msettings\u001b[0m\u001b[0;34m)\u001b[0m\u001b[0;34m\u001b[0m\u001b[0;34m\u001b[0m\u001b[0m\n\u001b[0;32m--> 589\u001b[0;31m         \u001b[0mresp\u001b[0m \u001b[0;34m=\u001b[0m \u001b[0mself\u001b[0m\u001b[0;34m.\u001b[0m\u001b[0msend\u001b[0m\u001b[0;34m(\u001b[0m\u001b[0mprep\u001b[0m\u001b[0;34m,\u001b[0m \u001b[0;34m**\u001b[0m\u001b[0msend_kwargs\u001b[0m\u001b[0;34m)\u001b[0m\u001b[0;34m\u001b[0m\u001b[0;34m\u001b[0m\u001b[0m\n\u001b[0m\u001b[1;32m    590\u001b[0m \u001b[0;34m\u001b[0m\u001b[0m\n\u001b[1;32m    591\u001b[0m         \u001b[0;32mreturn\u001b[0m \u001b[0mresp\u001b[0m\u001b[0;34m\u001b[0m\u001b[0;34m\u001b[0m\u001b[0m\n",
            "\u001b[0;32m/usr/local/lib/python3.10/dist-packages/requests/sessions.py\u001b[0m in \u001b[0;36msend\u001b[0;34m(self, request, **kwargs)\u001b[0m\n\u001b[1;32m    695\u001b[0m \u001b[0;34m\u001b[0m\u001b[0m\n\u001b[1;32m    696\u001b[0m         \u001b[0;31m# Get the appropriate adapter to use\u001b[0m\u001b[0;34m\u001b[0m\u001b[0;34m\u001b[0m\u001b[0m\n\u001b[0;32m--> 697\u001b[0;31m         \u001b[0madapter\u001b[0m \u001b[0;34m=\u001b[0m \u001b[0mself\u001b[0m\u001b[0;34m.\u001b[0m\u001b[0mget_adapter\u001b[0m\u001b[0;34m(\u001b[0m\u001b[0murl\u001b[0m\u001b[0;34m=\u001b[0m\u001b[0mrequest\u001b[0m\u001b[0;34m.\u001b[0m\u001b[0murl\u001b[0m\u001b[0;34m)\u001b[0m\u001b[0;34m\u001b[0m\u001b[0;34m\u001b[0m\u001b[0m\n\u001b[0m\u001b[1;32m    698\u001b[0m \u001b[0;34m\u001b[0m\u001b[0m\n\u001b[1;32m    699\u001b[0m         \u001b[0;31m# Start time (approximately) of the request\u001b[0m\u001b[0;34m\u001b[0m\u001b[0;34m\u001b[0m\u001b[0m\n",
            "\u001b[0;32m/usr/local/lib/python3.10/dist-packages/requests/sessions.py\u001b[0m in \u001b[0;36mget_adapter\u001b[0;34m(self, url)\u001b[0m\n\u001b[1;32m    792\u001b[0m \u001b[0;34m\u001b[0m\u001b[0m\n\u001b[1;32m    793\u001b[0m         \u001b[0;31m# Nothing matches :-/\u001b[0m\u001b[0;34m\u001b[0m\u001b[0;34m\u001b[0m\u001b[0m\n\u001b[0;32m--> 794\u001b[0;31m         \u001b[0;32mraise\u001b[0m \u001b[0mInvalidSchema\u001b[0m\u001b[0;34m(\u001b[0m\u001b[0;34mf\"No connection adapters were found for {url!r}\"\u001b[0m\u001b[0;34m)\u001b[0m\u001b[0;34m\u001b[0m\u001b[0;34m\u001b[0m\u001b[0m\n\u001b[0m\u001b[1;32m    795\u001b[0m \u001b[0;34m\u001b[0m\u001b[0m\n\u001b[1;32m    796\u001b[0m     \u001b[0;32mdef\u001b[0m \u001b[0mclose\u001b[0m\u001b[0;34m(\u001b[0m\u001b[0mself\u001b[0m\u001b[0;34m)\u001b[0m\u001b[0;34m:\u001b[0m\u001b[0;34m\u001b[0m\u001b[0;34m\u001b[0m\u001b[0m\n",
            "\u001b[0;31mInvalidSchema\u001b[0m: No connection adapters were found for 'data:image/jpeg;base64,/9j/4AAQSkZJRgABAQAAAQABAAD/2wCEAAoHCBYWFRgWFhYZGBgaHBgcGhocGBgYGBoaGhwaHBgYGhocIS4lHB4rHxgYJjgmKy8xNTU1GiQ7QDs0Py40NTEBDAwMEA8QHxISHzQrJCs0NDQ0NDQ0NDQ0NDQ0NDQ0NDQ0NDQ0NDQ0NDQ0NDQ0NDQ0NDQ0NDQ0NDQ0NDQ0NDQ0NP/AABEIAOEA4QMBIgACEQEDEQH/xAAcAAACAgMBAQAAAAAAAAAAAAAEBQIDAAEGBwj/xABAEAABAwMCAwYDBgMGBgMAAAABAAIRAwQhEjEFQVEGImFxgZETMrEUUqHB0fAjQpIVYnKC4fEHFjOywtJDU6L/xAAaAQADAQEBAQAAAAAAAAAAAAABAgMABAUG/8QAKhEAAgICAgICAQMEAwAAAAAAAAECEQMhEjEEQRNRYSIycQWRofAUM0L/2gAMAwEAAhEDEQA/AEtKzxKnbUgHgeKOtHgt2VgtAcr5iWV7TOlQ1aGbaIDcdEue/KIZWIwVp7AchcyVdjvfQVQttTUpuKJY4wnNq4tEJdxGpLpXX4/kKOqFktAFSqeaoLJW7o4S+3uy0wV2fJyjcUJdEK9qWmd1FpKcPqNc1Lm25c/S3MkR5n/VLjyOS2gSXsjTZKPo2gOV0dh2FeQ1z6oZI7zA0lzTyHQ/hCZjsYGuOmudGIDmSR1lwdn2XQ8OR7RlJeziH0nNPVQcu8/5SJIiswjn3HA+m6Auexdd06X0zG3ecNR8i3CR4st7Rm0I+G8XfS2yOid/824+Uz6LluI8OrUCRUY5sGJg6Sd8OiHeiXF5WqUdGUh5xHijqpk7IRj0Ex6vYVzyhJseMg6m6UQ1iFolEfESrD9jciq5aEvc9E3NWUGclUiuPYktk3HCHyiW0pUjRhPySA4gmshEUbggqLmIZyylyM1Q8p3ivF2FzoqEK+k84QnFVYYyH32pbSyfFYoDl9vb6cCYTBr9IE7Ku3dnKlevAauOTcpUzRugWpWJJU6NyRgqNiWkmclZc1mh3inpXxoyWrDm3GEPcU9Q2W7cyjGkDCWMK2jdiJzeRQV5w/mN08vqYnC02nqbsrRyuDtE69HIh72nSu47DcOc0fHe3LiG0ZHzO5vE8h18fBb4Z2fY7+NVALGnDf8A7HTEH+7PvEdV01CqXV9OP4dMu8PiPA046BuP8q9bD+pKTVf72BRfYbc8SYwinrZrPIvbqPiGzJCvp3BPLl/suOs+xv8AGdVfV+I8u1l+hjTqPPUBqAAwACBHJdrRptgNDgY8Rn2XWr7szSWjT64G+IW7a4D9j6c0u4yypoIYQHcidtsLieHv4hbVQ57aldkn4ml7CBJJ1U2EAtIxzM52wlcnYVBUd9fvYRorNDmOwQeROAR4rzjtXwA2z..."
          ]
        }
      ],
      "source": [
        "import torch\n",
        "import torchvision.transforms as transforms\n",
        "from PIL import Image\n",
        "import requests\n",
        "from io import BytesIO\n",
        "import matplotlib.pyplot as plt\n",
        "\n",
        "# 函數從網址加載圖片\n",
        "def load_image(url):\n",
        "    response = requests.get(url)\n",
        "    return Image.open(BytesIO(response.content))\n",
        "\n",
        "# 定義變換\n",
        "transforms_dict = {\n",
        "    \"Original Image\": None,\n",
        "    \"Resized\": transforms.Resize((1020, 980)),\n",
        "    \"Center Cropped\": transforms.CenterCrop(100),\n",
        "    \"Color Jittered\": transforms.ColorJitter(brightness=0.8, contrast=0.7, saturation=0.1),\n",
        "    \"Horizontally Flipped\": transforms.RandomHorizontalFlip(p=0.7),\n",
        "    \"Randomly Rotated\": transforms.RandomRotation(40)\n",
        "}\n",
        "\n",
        "# 加載圖片\n",
        "img_url = 'https://terrymon.com/wp-content/uploads/2023/06/未命名設計-3.png'\n",
        "img = load_image(img_url)\n",
        "\n",
        "# 準備繪圖\n",
        "fig, ax = plt.subplots(1, 6, figsize=(15, 5))  # 1 row，6 column\n",
        "\n",
        "# 繪製和顯示變換後的圖像\n",
        "for i, (title, transform) in enumerate(transforms_dict.items()):\n",
        "    transformed_img = img\n",
        "    if transform:\n",
        "        transformed_img = transform(transformed_img)\n",
        "    ax[i].imshow(transformed_img)\n",
        "    ax[i].set_title(title)\n",
        "    ax[i].axis('off')\n",
        "\n",
        "plt.tight_layout()\n",
        "plt.show()"
      ]
    }
  ]
}