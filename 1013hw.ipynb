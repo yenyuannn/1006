{
  "nbformat": 4,
  "nbformat_minor": 0,
  "metadata": {
    "colab": {
      "provenance": []
    },
    "kernelspec": {
      "name": "python3",
      "display_name": "Python 3"
    },
    "language_info": {
      "name": "python"
    }
  },
  "cells": [
    {
      "cell_type": "code",
      "source": [
        "a=[\"熊妍媛b1205019\",\"資料型態：list\"]\n",
        "print(a[0],a[1])"
      ],
      "metadata": {
        "colab": {
          "base_uri": "https://localhost:8080/"
        },
        "id": "AH8f5WWZ-N5m",
        "outputId": "a0c795d3-7c6a-4801-80fd-d60dd15b2149"
      },
      "execution_count": 8,
      "outputs": [
        {
          "output_type": "stream",
          "name": "stdout",
          "text": [
            "熊妍媛b1205019 資料型態：list\n"
          ]
        }
      ]
    },
    {
      "cell_type": "code",
      "source": [],
      "metadata": {
        "id": "Suqn0nvD_Je2"
      },
      "execution_count": null,
      "outputs": []
    }
  ]
}