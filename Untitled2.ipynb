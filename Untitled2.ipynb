{
  "nbformat": 4,
  "nbformat_minor": 0,
  "metadata": {
    "colab": {
      "provenance": []
    },
    "kernelspec": {
      "name": "python3",
      "display_name": "Python 3"
    },
    "language_info": {
      "name": "python"
    }
  },
  "cells": [
    {
      "cell_type": "code",
      "execution_count": 4,
      "metadata": {
        "colab": {
          "base_uri": "https://localhost:8080/"
        },
        "id": "A66g4ghICc9K",
        "outputId": "d71b9e3e-188e-4813-a026-56ed0995ea25"
      },
      "outputs": [
        {
          "output_type": "stream",
          "name": "stdout",
          "text": [
            "\n",
            "您想查詢什麼？(藥方名稱/出典/處方/效能/適應症/退出查詢)：藥方名稱\n",
            "還少丸《丸》\n",
            "\n",
            "您想查詢什麼？(藥方名稱/出典/處方/效能/適應症/退出查詢)：出典\n",
            "還少丸《丸》的出典為:楊氏家藏方\n",
            "\n",
            "您想查詢什麼？(藥方名稱/出典/處方/效能/適應症/退出查詢)：處方\n",
            "還少丸《丸》的處方為:\n",
            "山藥：3公克\n",
            "牛膝：3公克\n",
            "茯苓：2公克\n",
            "山茱萸：2公克\n",
            "楮實：2公克\n",
            "杜仲：2公克\n",
            "五味子：2公克\n",
            "巴戟天：2公克\n",
            "肉蓯蓉：2公克\n",
            "遠志：2公克\n",
            "小茴香：2公克\n",
            "石菖蒲：1公克\n",
            "熟地黃：1公克\n",
            "枸杞子：1公克\n",
            "大棗：1公克\n",
            "總克數為：28公克\n",
            "\n",
            "您想查詢什麼？(藥方名稱/出典/處方/效能/適應症/退出查詢)：效能\n",
            "還少丸《丸》的效能是:補心腎脾胃虛損\n",
            "\n",
            "您想查詢什麼？(藥方名稱/出典/處方/效能/適應症/退出查詢)：適應證\n",
            "輸入無效，請重新輸入。\n",
            "\n",
            "您想查詢什麼？(藥方名稱/出典/處方/效能/適應症/退出查詢)：退出查詢\n",
            "感謝使用，再見！\n"
          ]
        }
      ],
      "source": [
        "prescription = {\n",
        "    '名稱': '還少丸《丸》',\n",
        "    '出典': '楊氏家藏方',\n",
        "    '處方': {\n",
        "        '山藥': 3,\n",
        "        '牛膝': 3,\n",
        "        '茯苓': 2,\n",
        "        '山茱萸': 2,\n",
        "        '楮實': 2,\n",
        "        '杜仲': 2,\n",
        "        '五味子': 2,\n",
        "        '巴戟天': 2,\n",
        "        '肉蓯蓉': 2,\n",
        "        '遠志': 2,\n",
        "        '小茴香': 2,\n",
        "        '石菖蒲': 1,\n",
        "        '熟地黃': 1,\n",
        "        '枸杞子': 1,\n",
        "        '大棗': 1\n",
        "    },\n",
        "    '效能': '補心腎脾胃虛損',\n",
        "    '適應症': ['脾腎虛寒', '血氣虛損', '體虛盜汗', '遺精尿濁']\n",
        "}\n",
        "\n",
        "# 使用 while 迴圈提供查詢服務\n",
        "while True:\n",
        "    query = input(\"\\n您想查詢什麼？(藥方名稱/出典/處方/效能/適應症/退出查詢)：\")\n",
        "\n",
        "    if query == \"藥方名稱\":\n",
        "        print(f\"{prescription['名稱']}\")\n",
        "    elif query == \"出典\":\n",
        "        print(f\"{prescription['名稱']}的出典為:{prescription['出典']}\")\n",
        "    elif query == \"適應症\":\n",
        "        print(f\"{prescription['名稱']}的適應症有:\")\n",
        "        for symptom in prescription['適應症']:\n",
        "            print(symptom)\n",
        "    elif query == \"處方\":\n",
        "        total_weight = sum(prescription['處方'].values())\n",
        "        print(f\"{prescription['名稱']}的處方為:\")\n",
        "        for medicine, weight in prescription['處方'].items():\n",
        "            print(f\"{medicine}：{weight}公克\")\n",
        "        print(f\"總克數為：{total_weight}公克\")\n",
        "    elif query == \"效能\":\n",
        "        print(f\"{prescription['名稱']}的效能是:{prescription['效能']}\")\n",
        "    elif query == \"退出查詢\":\n",
        "        print(\"感謝使用，再見！\")\n",
        "        break\n",
        "    else:\n",
        "        print(\"輸入無效，請重新輸入。\")"
      ]
    }
  ]
}