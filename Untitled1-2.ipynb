{
  "nbformat": 4,
  "nbformat_minor": 0,
  "metadata": {
    "colab": {
      "provenance": []
    },
    "kernelspec": {
      "name": "python3",
      "display_name": "Python 3"
    },
    "language_info": {
      "name": "python"
    }
  },
  "cells": [
    {
      "cell_type": "code",
      "source": [
        "number = int(input(\"輸入範圍\"))\n",
        "for i in range(1, number + 1):\n",
        "    for j in range(1, number + 1):\n",
        "      print (f\"{i} x {j} = {i * j}\")\n"
      ],
      "metadata": {
        "colab": {
          "base_uri": "https://localhost:8080/"
        },
        "id": "qwFFuaoYEFOG",
        "outputId": "85ad95d2-ef3f-468d-b9c6-3ce978447eef"
      },
      "execution_count": 24,
      "outputs": [
        {
          "output_type": "stream",
          "name": "stdout",
          "text": [
            "輸入範圍7\n",
            "1 x 1 = 1\n",
            "1 x 2 = 2\n",
            "1 x 3 = 3\n",
            "1 x 4 = 4\n",
            "1 x 5 = 5\n",
            "1 x 6 = 6\n",
            "1 x 7 = 7\n",
            "2 x 1 = 2\n",
            "2 x 2 = 4\n",
            "2 x 3 = 6\n",
            "2 x 4 = 8\n",
            "2 x 5 = 10\n",
            "2 x 6 = 12\n",
            "2 x 7 = 14\n",
            "3 x 1 = 3\n",
            "3 x 2 = 6\n",
            "3 x 3 = 9\n",
            "3 x 4 = 12\n",
            "3 x 5 = 15\n",
            "3 x 6 = 18\n",
            "3 x 7 = 21\n",
            "4 x 1 = 4\n",
            "4 x 2 = 8\n",
            "4 x 3 = 12\n",
            "4 x 4 = 16\n",
            "4 x 5 = 20\n",
            "4 x 6 = 24\n",
            "4 x 7 = 28\n",
            "5 x 1 = 5\n",
            "5 x 2 = 10\n",
            "5 x 3 = 15\n",
            "5 x 4 = 20\n",
            "5 x 5 = 25\n",
            "5 x 6 = 30\n",
            "5 x 7 = 35\n",
            "6 x 1 = 6\n",
            "6 x 2 = 12\n",
            "6 x 3 = 18\n",
            "6 x 4 = 24\n",
            "6 x 5 = 30\n",
            "6 x 6 = 36\n",
            "6 x 7 = 42\n",
            "7 x 1 = 7\n",
            "7 x 2 = 14\n",
            "7 x 3 = 21\n",
            "7 x 4 = 28\n",
            "7 x 5 = 35\n",
            "7 x 6 = 42\n",
            "7 x 7 = 49\n"
          ]
        }
      ]
    },
    {
      "cell_type": "code",
      "source": [
        "import random\n",
        "target_number = random.randint(1, 100)\n",
        "\n",
        "print(\"歡迎參加猜數字遊戲！\")\n",
        "ans = 0\n",
        "while ans == 0:\n",
        "  guess = int(input(\"你猜的是？\"))\n",
        "  if guess > target_number:\n",
        "    print(\"猜高了\")\n",
        "  elif guess < target_number:\n",
        "      print(\"猜低了\")\n",
        "  else:\n",
        "        print(f\"guess right! the answer is {target_number}\")\n",
        "        ans = 1\n",
        "print(\"遊戲結束\")"
      ],
      "metadata": {
        "colab": {
          "base_uri": "https://localhost:8080/"
        },
        "id": "iMZ7w9TIEyup",
        "outputId": "4c4332b9-e683-43a8-acce-bf5c3ea364df"
      },
      "execution_count": 29,
      "outputs": [
        {
          "output_type": "stream",
          "name": "stdout",
          "text": [
            "歡迎參加猜數字遊戲！\n",
            "你猜的是？50\n",
            "猜低了\n",
            "你猜的是？70\n",
            "猜低了\n",
            "你猜的是？90\n",
            "猜低了\n",
            "你猜的是？95\n",
            "猜高了\n",
            "你猜的是？94\n",
            "猜高了\n",
            "你猜的是？92\n",
            "猜低了\n",
            "你猜的是？93\n",
            "guess right! the answer is 93\n",
            "遊戲結束\n"
          ]
        }
      ]
    }
  ]
}